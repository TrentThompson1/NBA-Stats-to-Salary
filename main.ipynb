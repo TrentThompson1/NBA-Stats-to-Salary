{
 "cells": [
  {
   "cell_type": "markdown",
   "id": "180598e7-699e-4b74-9578-b6ca9604a3e1",
   "metadata": {},
   "source": [
    "NBA Stats to Salary\n",
    "\n",
    "Team Wizards\n",
    "\n",
    "Trent Thompson (trentthompson)\n",
    "Alexander Peal (alexanderpeal)\n",
    "Dylan Grim (dylang04)\n",
    "Pranav Ramasubbiah Rajavel (pranavrajavel)"
   ]
  },
  {
   "cell_type": "markdown",
   "id": "8643f110-b742-449f-99a9-729ea52bc9f6",
   "metadata": {},
   "source": [
    "Our project will compare the salary of various NBA player throughout the organization and compare their salary to their stats. This way you can find the amount of points per dollar they are paid and the same with reboundss assists steals and blocks. There can also be a formula made weighing values of each stat to find the best contracts in the league and maybe seeing what team has the best contracts and comparing that to whether they are good or not. \n",
    "\n",
    "Who has the most value players?\n",
    "Who is the highest value player in the league?\n",
    "What is the weight of each stat? One point should not equal one block.\n",
    "\n",
    "The website we will use for the stats of the players is: https://www.basketball-reference.com/ They have all the stats and salaries of the players in the league. "
   ]
  }
 ],
 "metadata": {
  "kernelspec": {
   "display_name": "Python 3 (ipykernel)",
   "language": "python",
   "name": "python3"
  },
  "language_info": {
   "codemirror_mode": {
    "name": "ipython",
    "version": 3
   },
   "file_extension": ".py",
   "mimetype": "text/x-python",
   "name": "python",
   "nbconvert_exporter": "python",
   "pygments_lexer": "ipython3",
   "version": "3.12.3"
  }
 },
 "nbformat": 4,
 "nbformat_minor": 5
}
